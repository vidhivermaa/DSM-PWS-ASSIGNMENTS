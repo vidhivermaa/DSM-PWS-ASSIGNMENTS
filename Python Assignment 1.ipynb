{
 "cells": [
  {
   "cell_type": "markdown",
   "id": "581bb875",
   "metadata": {},
   "source": [
    "# PYTHON ASSIGNMENT               (29 JAN)"
   ]
  },
  {
   "cell_type": "markdown",
   "id": "361f663b",
   "metadata": {},
   "source": [
    "Q1. Who developed python programmimg language?\n",
    "\n",
    "A1. Guido van Rossum"
   ]
  },
  {
   "cell_type": "markdown",
   "id": "0d3fdac5",
   "metadata": {},
   "source": [
    "Q2. Which type of programmimg does python support?\n",
    "\n",
    "A2. Object-oriented programming, structured programming and functional programming. "
   ]
  },
  {
   "cell_type": "markdown",
   "id": "b665a6a3",
   "metadata": {},
   "source": [
    "Q3. Is python case sensitive when dealing with identifiers?\n",
    "\n",
    "A3. Yes, Python is a case-sensitive language, so identifiers are also case-sensitive. "
   ]
  },
  {
   "cell_type": "markdown",
   "id": "f5d754db",
   "metadata": {},
   "source": [
    "Q4. What is the correct extension of the python file?\n",
    "\n",
    "A4.  Extension for Python file is .py"
   ]
  },
  {
   "cell_type": "markdown",
   "id": "0deab6b8",
   "metadata": {},
   "source": [
    "Q5. Is python code compiled or interpreted?\n",
    "\n",
    "A5.  Python is an interpreted language and not a compiled one. However, compilation is a step internally. Python source code, written in .py file is first compiled into bytecode and then executed by the Python virtual machine."
   ]
  },
  {
   "cell_type": "markdown",
   "id": "e2b9c2eb",
   "metadata": {},
   "source": [
    "Q6.  Name a few blocks of code used to define in Python language.\n",
    "\n",
    "A6. There are several blocks of code used to define different elements of a program. Some of them are:\n",
    "    Function Definition, Class Body, Conditional statements like If,Else,If-Elif, Looping Constructs like For and While. Also, these blocks of code in python are defined using indentation.\n",
    "    "
   ]
  },
  {
   "cell_type": "markdown",
   "id": "01f88e84",
   "metadata": {},
   "source": [
    "Q7. State a character used to give single-line comments in Python.\n",
    "\n",
    "A7. In Python, we use the character '#' to write single-line comments."
   ]
  },
  {
   "cell_type": "markdown",
   "id": "15f0da1a",
   "metadata": {},
   "source": [
    "Q8. Mention functions which can help us to find the version of python that we are currently working on? \n",
    "\n",
    "A8. Both 'sys' and 'platform' modules provide information about the Python version we are working on. \n"
   ]
  },
  {
   "cell_type": "markdown",
   "id": "b162a3a7",
   "metadata": {},
   "source": [
    "Q9. Python supports the creation of anonymous functions at runtime, using a construct called____?\n",
    "\n",
    "A9. Lambda functions."
   ]
  },
  {
   "cell_type": "markdown",
   "id": "c15ced18",
   "metadata": {},
   "source": [
    "Q10. What does pip stand for python? \n",
    "\n",
    "A10. Preferred Installer Program."
   ]
  },
  {
   "cell_type": "markdown",
   "id": "9cd4da25",
   "metadata": {},
   "source": [
    "Q11. Mention a few built-in functions in python? \n",
    "\n",
    "A11. 1. print(): Outputs the specified text or object to the console.   2.   len(): Returns the length (the number of items) of an object.    3.  input(): Reads a line of input from the user as a string.   4.  type(): Returns the type of an object"
   ]
  },
  {
   "cell_type": "markdown",
   "id": "9a8d970d",
   "metadata": {},
   "source": [
    "Q12.  What is the maximum possible length of an identifier in Python? \n",
    "\n",
    "A12. An identifier can be of any length, but it is recommended to limit it to a maximum of 79 characters to ensure readability."
   ]
  },
  {
   "cell_type": "markdown",
   "id": "85fc3d16",
   "metadata": {},
   "source": [
    "Q13. What are the benefits of using Python? \n",
    "\n",
    "A13. Simple and Easy to learn, Free and easy to use, Open source and versatile, Portable and Extensible, Object-Oriented Programming, interpreted language."
   ]
  },
  {
   "cell_type": "markdown",
   "id": "73aa93cc",
   "metadata": {},
   "source": [
    "Q14. How is memory managed in Python? \n",
    "\n",
    "A14. Memory management in Python is handled automatically through a combination of techniques, primarily using a system called \"reference counting\" and supplemented by a garbage collector.also, Python provides additional mechanisms for optimizing memory usage. For example, it has features like object pooling and recycling through modules such as gc and weakref, allowing developers to explicitly manage memory in certain situations "
   ]
  },
  {
   "cell_type": "markdown",
   "id": "fbe4931a",
   "metadata": {},
   "source": [
    "Q15. How to install Python on Windows and set path variables?\n",
    " \n",
    "A15. To install Python on Windows and set up the path variables, we have to first visit the official Python website at https://www.python.org/downloads/ and download the latest version of Python for Windows. Choose the appropriate installer based on our system architecture (32-bit or 64-bit).After that,locate the downloaded installer file and double-click on it to run the installer. we havet to M\n",
    "make sure to check the box that says \"Add Python to PATH\" during the installation process. This will automatically set up the necessary environment variables for Python."
   ]
  },
  {
   "cell_type": "markdown",
   "id": "e20e6849",
   "metadata": {},
   "source": [
    "Q16. Is indentation required in python? \n",
    "\n",
    "A16. Yes, indentation is required in Python.It uses indentation to define the structure and grouping of code, the level of indentation determines the grouping and nesting of statements within control structures, such as loops, conditionals, functions, and classes. Without proper indentation, Python code will result in a syntax error."
   ]
  },
  {
   "cell_type": "code",
   "execution_count": null,
   "id": "c58f6944",
   "metadata": {},
   "outputs": [],
   "source": []
  }
 ],
 "metadata": {
  "kernelspec": {
   "display_name": "Python 3 (ipykernel)",
   "language": "python",
   "name": "python3"
  },
  "language_info": {
   "codemirror_mode": {
    "name": "ipython",
    "version": 3
   },
   "file_extension": ".py",
   "mimetype": "text/x-python",
   "name": "python",
   "nbconvert_exporter": "python",
   "pygments_lexer": "ipython3",
   "version": "3.9.13"
  }
 },
 "nbformat": 4,
 "nbformat_minor": 5
}
