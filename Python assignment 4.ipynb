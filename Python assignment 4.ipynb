{
 "cells": [
  {
   "cell_type": "markdown",
   "id": "bda22f8d",
   "metadata": {},
   "source": [
    "# PYTHON ASSIGNMENT (3 FEB)"
   ]
  },
  {
   "cell_type": "markdown",
   "id": "d8666590",
   "metadata": {},
   "source": [
    "Q1.Which keyword is used to create a function? Create a function to return a list of odd numbers in the range of 1 to 25.\n",
    "\n",
    "A1. The keyword used to create a function in Python is \"def\"."
   ]
  },
  {
   "cell_type": "code",
   "execution_count": 8,
   "id": "a5ed81c4",
   "metadata": {},
   "outputs": [
    {
     "name": "stdout",
     "output_type": "stream",
     "text": [
      "[1, 3, 5, 7, 9, 11, 13, 15, 17, 19, 21, 23, 25]\n"
     ]
    }
   ],
   "source": [
    "def xyz():\n",
    "    odd=[]\n",
    "    for i in range(1,26):\n",
    "        if i%2!=0:\n",
    "            odd.append(i)\n",
    "    return odd\n",
    "print(xyz())"
   ]
  },
  {
   "cell_type": "markdown",
   "id": "bc99e7e5",
   "metadata": {},
   "source": [
    "Q2.Why *args and *kwargs is used in some functions in python? Create a function each for *args and *kwargs to demonstrate their use.\n",
    "\n",
    "A2. *args and *kwargs are used to pass a variable number of arguments to a function. They allow you to handle arbitrary numbers of positional and keyword arguments respectively.\n",
    "\n",
    "The *args syntax allows you to pass multiple positional arguments to a function, and they are collected into a tuple within the function. "
   ]
  },
  {
   "cell_type": "code",
   "execution_count": 9,
   "id": "851ec63c",
   "metadata": {},
   "outputs": [
    {
     "name": "stdout",
     "output_type": "stream",
     "text": [
      "6\n",
      "30\n",
      "9\n"
     ]
    }
   ],
   "source": [
    "def sum_numbers(*args):\n",
    "    total = 0\n",
    "    for num in args:\n",
    "        total =total+ num\n",
    "    return total\n",
    "print(sum_numbers(1, 2, 3))           \n",
    "print(sum_numbers(4, 5, 6, 7, 8))     \n",
    "print(sum_numbers(9))               "
   ]
  },
  {
   "cell_type": "markdown",
   "id": "551b8a98",
   "metadata": {},
   "source": [
    "*kwargs allows you to pass multiple keyword arguments to a function, and they are collected into a dictionary within the function."
   ]
  },
  {
   "cell_type": "code",
   "execution_count": 10,
   "id": "b5af64cf",
   "metadata": {},
   "outputs": [
    {
     "name": "stdout",
     "output_type": "stream",
     "text": [
      "name: Alice\n",
      "age: 25\n",
      "name: Bob\n",
      "age: 30\n",
      "city: New York\n"
     ]
    }
   ],
   "source": [
    "def print_person_info(**kwargs):\n",
    "    for key, value in kwargs.items():\n",
    "        print(f\"{key}: {value}\")\n",
    "print_person_info(name=\"Alice\", age=25)\n",
    "print_person_info(name=\"Bob\", age=30, city=\"New York\")"
   ]
  },
  {
   "cell_type": "markdown",
   "id": "2b027587",
   "metadata": {},
   "source": [
    "Q3.What is an iterator in python? Name the method used to initialise the iterator object and the method used for iteration. Use these methods to print the first five elements of the given list [2, 4, 6, 8, 10, 12, 14,16, 18, 20]."
   ]
  },
  {
   "cell_type": "markdown",
   "id": "00ce73a5",
   "metadata": {},
   "source": [
    "A3.In Python, an iterator is an object that implements the iterator protocol, which consists of two methods: __iter__() and __next__().\n",
    "\n",
    "The __iter__() method is used to initialize the iterator object. It returns the iterator object itself and is typically used to perform any setup or initialization for the iteration.\n",
    "\n",
    "The __next__() method is used to retrieve the next element from the iterator. It returns the next element in the sequence, and if there are no more elements, it raises the StopIteration exception."
   ]
  },
  {
   "cell_type": "code",
   "execution_count": 12,
   "id": "4d813046",
   "metadata": {},
   "outputs": [
    {
     "name": "stdout",
     "output_type": "stream",
     "text": [
      "2\n",
      "4\n",
      "6\n",
      "8\n",
      "10\n"
     ]
    }
   ],
   "source": [
    "l= [2, 4, 6, 8, 10, 12, 14, 16, 18, 20]\n",
    "my_iter = iter(l)\n",
    "for _ in range(5):\n",
    "    element = next(my_iter)\n",
    "    print(element)"
   ]
  },
  {
   "cell_type": "markdown",
   "id": "5f8fb436",
   "metadata": {},
   "source": [
    "Q4. What is a generator function in python? Why yield keyword is used? Give an example of a generator\n",
    "function."
   ]
  },
  {
   "cell_type": "markdown",
   "id": "edfd9577",
   "metadata": {},
   "source": [
    "A4. A generator function is a special type of function that generates a sequence of values using the yield keyword. Unlike regular functions that use the return statement to return a value and terminate, generator functions use yield to produce a series of values one at a time, preserving their state between invocations.\n",
    "\n",
    "The yield keyword is used to yield a value from the generator function, suspending its execution temporarily. The generator function can then be resumed later from where it left off, allowing it to produce the next value in the sequence."
   ]
  },
  {
   "cell_type": "code",
   "execution_count": 13,
   "id": "157912a1",
   "metadata": {},
   "outputs": [
    {
     "name": "stdout",
     "output_type": "stream",
     "text": [
      "0\n",
      "2\n",
      "4\n",
      "6\n",
      "8\n",
      "10\n"
     ]
    }
   ],
   "source": [
    "def generate_even_numbers(limit):\n",
    "    num = 0\n",
    "    while num <= limit:\n",
    "        yield num\n",
    "        num += 2\n",
    "even_generator = generate_even_numbers(10)\n",
    "for number in even_generator:\n",
    "    print(number)"
   ]
  },
  {
   "cell_type": "markdown",
   "id": "0864ec23",
   "metadata": {},
   "source": [
    "Q5. Create a generator function for prime numbers less than 1000. Use the next() method to print the\n",
    "first 20 prime numbers."
   ]
  },
  {
   "cell_type": "code",
   "execution_count": 15,
   "id": "c9a09ae1",
   "metadata": {},
   "outputs": [
    {
     "name": "stdout",
     "output_type": "stream",
     "text": [
      "2\n",
      "3\n",
      "5\n",
      "7\n",
      "11\n",
      "13\n",
      "17\n",
      "19\n",
      "23\n",
      "29\n",
      "31\n",
      "37\n",
      "41\n",
      "43\n",
      "47\n",
      "53\n",
      "59\n",
      "61\n",
      "67\n",
      "71\n"
     ]
    }
   ],
   "source": [
    "def abc():\n",
    "    num = 2\n",
    "    primes = []\n",
    "    while True:\n",
    "        if all(num % prime != 0 for prime in primes):\n",
    "            yield num\n",
    "            primes.append(num)\n",
    "        num += 1\n",
    "prime_generator = abc()\n",
    "for _ in range(20):\n",
    "    prime_number = next(prime_generator)\n",
    "    print(prime_number)"
   ]
  },
  {
   "cell_type": "markdown",
   "id": "d7641e01",
   "metadata": {},
   "source": [
    "Q6. Write a python program to print the first 10 Fibonacci numbers using a while loop."
   ]
  },
  {
   "cell_type": "code",
   "execution_count": 19,
   "id": "c2ca6ebc",
   "metadata": {},
   "outputs": [
    {
     "name": "stdout",
     "output_type": "stream",
     "text": [
      "0 1 1 2 3 5 8 13 21 34 "
     ]
    }
   ],
   "source": [
    "def fibonacci():\n",
    "    count = 0\n",
    "    first_num,second_num = 0,1\n",
    "    while count < 10:\n",
    "        print(first_num, end=\" \")\n",
    "        fibonacci_num = first_num + second_num\n",
    "        first_num = second_num\n",
    "        second_num = fibonacci_num\n",
    "        count += 1\n",
    "fibonacci()"
   ]
  },
  {
   "cell_type": "markdown",
   "id": "14795b70",
   "metadata": {},
   "source": [
    "Q7. Write a List Comprehension to iterate through the given string: ‘pwskills’.\n",
    "    \n",
    "Expected output: ['p', 'w', 's', 'k', 'i', 'l', 'l', 's']"
   ]
  },
  {
   "cell_type": "code",
   "execution_count": 21,
   "id": "df5297ba",
   "metadata": {},
   "outputs": [
    {
     "name": "stdout",
     "output_type": "stream",
     "text": [
      "['p', 'w', 's', 'k', 'i', 'l', 'l', 's']\n"
     ]
    }
   ],
   "source": [
    "string = 'pwskills'\n",
    "result = [char for char in string]\n",
    "print(result)"
   ]
  },
  {
   "cell_type": "markdown",
   "id": "9f5fa20a",
   "metadata": {},
   "source": [
    "Q8. Write a python program to check whether a given number is Palindrome or not using a while loop."
   ]
  },
  {
   "cell_type": "code",
   "execution_count": 24,
   "id": "253a9ace",
   "metadata": {},
   "outputs": [
    {
     "name": "stdout",
     "output_type": "stream",
     "text": [
      "Enter a number: 777\n",
      "777 is a palindrome.\n"
     ]
    }
   ],
   "source": [
    "def palindrome(number):\n",
    "    original_number = number\n",
    "    reverse_number = 0\n",
    "\n",
    "    while number > 0:\n",
    "        remainder = number%10\n",
    "        reverse_number = reverse_number*10+remainder\n",
    "        number = number // 10\n",
    "\n",
    "    if original_number == reverse_number:\n",
    "        return True\n",
    "    else:\n",
    "        return False\n",
    "num = int(input(\"Enter a number: \"))\n",
    "\n",
    "if palindrome(num):\n",
    "    print(num, \"is a palindrome.\")\n",
    "else:\n",
    "    print(num, \"is not a palindrome.\")"
   ]
  },
  {
   "cell_type": "markdown",
   "id": "316df228",
   "metadata": {},
   "source": [
    "Q9. Write a code to print odd numbers from 1 to 100 using list comprehension."
   ]
  },
  {
   "cell_type": "code",
   "execution_count": 27,
   "id": "7b6f91f8",
   "metadata": {},
   "outputs": [
    {
     "name": "stdout",
     "output_type": "stream",
     "text": [
      "[1, 3, 5, 7, 9, 11, 13, 15, 17, 19, 21, 23, 25, 27, 29, 31, 33, 35, 37, 39, 41, 43, 45, 47, 49, 51, 53, 55, 57, 59, 61, 63, 65, 67, 69, 71, 73, 75, 77, 79, 81, 83, 85, 87, 89, 91, 93, 95, 97, 99]\n"
     ]
    }
   ],
   "source": [
    "odd_numbers = [num for num in range(1, 101) if num%2 != 0]\n",
    "print(odd_numbers)"
   ]
  },
  {
   "cell_type": "code",
   "execution_count": null,
   "id": "f42d7b41",
   "metadata": {},
   "outputs": [],
   "source": []
  }
 ],
 "metadata": {
  "kernelspec": {
   "display_name": "Python 3 (ipykernel)",
   "language": "python",
   "name": "python3"
  },
  "language_info": {
   "codemirror_mode": {
    "name": "ipython",
    "version": 3
   },
   "file_extension": ".py",
   "mimetype": "text/x-python",
   "name": "python",
   "nbconvert_exporter": "python",
   "pygments_lexer": "ipython3",
   "version": "3.9.13"
  }
 },
 "nbformat": 4,
 "nbformat_minor": 5
}
