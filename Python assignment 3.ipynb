{
 "cells": [
  {
   "cell_type": "markdown",
   "id": "12771e88",
   "metadata": {},
   "source": [
    "# PYTHON ASSIGNMENT (2 FEB)"
   ]
  },
  {
   "cell_type": "markdown",
   "id": "b26af21f",
   "metadata": {},
   "source": [
    "Q1. Explain with an example each when to use for loop and while loop.\n",
    "\n",
    "A1. A for loop is typically used when you know the exact number of iterations you need to perform. It's useful when you have a collection of items or a range of values to iterate over.For example if we want to print the numbers from 1 to 5, the code using for loop will be:"
   ]
  },
  {
   "cell_type": "code",
   "execution_count": 2,
   "id": "d70dbc85",
   "metadata": {},
   "outputs": [
    {
     "name": "stdout",
     "output_type": "stream",
     "text": [
      "1\n",
      "2\n",
      "3\n",
      "4\n",
      "5\n"
     ]
    }
   ],
   "source": [
    "for i in range(1, 6):\n",
    "    print(i)"
   ]
  },
  {
   "cell_type": "markdown",
   "id": "0a53c2c2",
   "metadata": {},
   "source": [
    "A while loop is useful when you need to repeat a block of code until a certain condition becomes false. It's often used when the exact number of iterations is unknown or when you need to repeatedly check a condition.For example if we want to find the smallest power of 2 that is greater than 1000. Here's how we can achieve that using a while loop:"
   ]
  },
  {
   "cell_type": "code",
   "execution_count": 8,
   "id": "42805677",
   "metadata": {},
   "outputs": [
    {
     "name": "stdout",
     "output_type": "stream",
     "text": [
      "The smallest power of 2 greater than 1000 is: 10\n"
     ]
    }
   ],
   "source": [
    "num = 1\n",
    "power = 0\n",
    "while num <= 1000:\n",
    "    num =num*2\n",
    "    power=power+1\n",
    "print(\"The smallest power of 2 greater than 1000 is:\", power)"
   ]
  },
  {
   "cell_type": "markdown",
   "id": "b419ae89",
   "metadata": {},
   "source": [
    "Q2. Write a python program to print the sum and product of the first 10 natural numbers using for\n",
    "and while loop."
   ]
  },
  {
   "cell_type": "code",
   "execution_count": 10,
   "id": "dd0b8180",
   "metadata": {},
   "outputs": [
    {
     "name": "stdout",
     "output_type": "stream",
     "text": [
      "The total sum of first 10 natural numbers is:  55\n",
      "The product of first 10 natural numbers is:  3628800\n"
     ]
    }
   ],
   "source": [
    "sum=0\n",
    "product=1\n",
    "for i in range(1,11):\n",
    "    sum=sum+i\n",
    "    product=product*i\n",
    "print(\"The total sum of first 10 natural numbers is: \",sum)\n",
    "print(\"The product of first 10 natural numbers is: \",product)"
   ]
  },
  {
   "cell_type": "code",
   "execution_count": 11,
   "id": "b9cee9df",
   "metadata": {},
   "outputs": [
    {
     "name": "stdout",
     "output_type": "stream",
     "text": [
      "The total sum of first 10 natural numbers is:  55\n",
      "The product of first 10 natural numbers is:  3628800\n"
     ]
    }
   ],
   "source": [
    "sum=0\n",
    "product=1\n",
    "num=1\n",
    "while num<=10:\n",
    "    sum=sum+num\n",
    "    product=product*num\n",
    "    num=num+1\n",
    "print(\"The total sum of first 10 natural numbers is: \",sum)\n",
    "print(\"The product of first 10 natural numbers is: \",product)"
   ]
  },
  {
   "cell_type": "markdown",
   "id": "4660bd00",
   "metadata": {},
   "source": [
    "Q3. Create a python program to compute the electricity bill for a household.\n",
    "The per-unit charges in rupees are as follows: For the first 100 units, the user will be charged Rs. 4.5 per unit, for the next 100 units, the user will be charged Rs. 6 per unit, and for the next 100 units, the user will be charged Rs. 10 per unit, After 300 units and above the user will be charged Rs. 20 per unit.\n",
    "You are required to take the units of electricity consumed in a month from the user as input.Your program must pass this test case: when the unit of electricity consumed by the user in a month is\n",
    "310, the total electricity bill should be 2250."
   ]
  },
  {
   "cell_type": "code",
   "execution_count": 22,
   "id": "c2ec7f9d",
   "metadata": {},
   "outputs": [
    {
     "name": "stdout",
     "output_type": "stream",
     "text": [
      "Enter your units of electricity consumed in a month: 310\n",
      "Your total electricity bill is:  2250.0\n"
     ]
    }
   ],
   "source": [
    "units=int(input(\"Enter your units of electricity consumed in a month: \"))\n",
    "if units<=100:\n",
    "    bill=4.5*units\n",
    "    print(\"Your total electricity bill is: \",bill)\n",
    "elif units>100 and units<=200:\n",
    "    bill=6*(100-units)+4.5*100\n",
    "    print(\"Your total electricity bill is: \",bill)\n",
    "elif units>200 and units<=300:\n",
    "    bill=(4.5*100)+(100*6)+ (units-200)*10\n",
    "    print(\"Your total electricity bill is: \",bill)\n",
    "elif units>300:\n",
    "    bill=(4.5*100)+(100*6)+(100*10)+(units-300)*20\n",
    "    print(\"Your total electricity bill is: \",bill)"
   ]
  },
  {
   "cell_type": "markdown",
   "id": "533aa675",
   "metadata": {},
   "source": [
    "Q4. Create a list of numbers from 1 to 100. Use for loop and while loop to calculate the cube of each number and if the cube of that number is divisible by 4 or 5 then append that number in a list and print that list."
   ]
  },
  {
   "cell_type": "code",
   "execution_count": 28,
   "id": "04df78ab",
   "metadata": {},
   "outputs": [
    {
     "name": "stdout",
     "output_type": "stream",
     "text": [
      "[2, 4, 5, 6, 8, 10, 12, 14, 15, 16, 18, 20, 22, 24, 25, 26, 28, 30, 32, 34, 35, 36, 38, 40, 42, 44, 45, 46, 48, 50, 52, 54, 55, 56, 58, 60, 62, 64, 65, 66, 68, 70, 72, 74, 75, 76, 78, 80, 82, 84, 85, 86, 88, 90, 92, 94, 95, 96, 98, 100]\n"
     ]
    }
   ],
   "source": [
    "num= list(range(1, 101))  \n",
    "cubes_divisible_by_4_or_5 = [] \n",
    "for i in num:\n",
    "    cube = i**3\n",
    "    if cube%4 == 0 or cube%5 == 0:\n",
    "        cubes_divisible_by_4_or_5.append(i)\n",
    "print(cubes_divisible_by_4_or_5)"
   ]
  },
  {
   "cell_type": "code",
   "execution_count": 32,
   "id": "831ae586",
   "metadata": {},
   "outputs": [
    {
     "name": "stdout",
     "output_type": "stream",
     "text": [
      "[2, 4, 5, 6, 8, 10, 12, 14, 15, 16, 18, 20, 22, 24, 25, 26, 28, 30, 32, 34, 35, 36, 38, 40, 42, 44, 45, 46, 48, 50, 52, 54, 55, 56, 58, 60, 62, 64, 65, 66, 68, 70, 72, 74, 75, 76, 78, 80, 82, 84, 85, 86, 88, 90, 92, 94, 95, 96, 98, 100]\n"
     ]
    }
   ],
   "source": [
    "num= list(range(1, 101)) \n",
    "cubes_divisible_by_4_or_5 = [] \n",
    "index = 0\n",
    "while index < len(num):\n",
    "    n = num[index]\n",
    "    cube = n**3\n",
    "    if cube % 4 == 0 or cube % 5 == 0:\n",
    "        cubes_divisible_by_4_or_5.append(n)\n",
    "    index += 1\n",
    "print(cubes_divisible_by_4_or_5)"
   ]
  },
  {
   "cell_type": "markdown",
   "id": "53427c5a",
   "metadata": {},
   "source": [
    "Q5.Write a program to filter count vowels in the below-given string.\n",
    "\n",
    "   string = \"I want to become a data scientist\""
   ]
  },
  {
   "cell_type": "code",
   "execution_count": null,
   "id": "9050ca51",
   "metadata": {},
   "outputs": [],
   "source": [
    "s=str(input(\"Enter the string: \"))\n",
    "i='aeiouAEIOU'\n",
    "count=0\n",
    "for char in s:\n",
    "    if char in i:\n",
    "        count=count+1\n",
    "print(count)"
   ]
  },
  {
   "cell_type": "code",
   "execution_count": null,
   "id": "6e163fed",
   "metadata": {},
   "outputs": [],
   "source": []
  },
  {
   "cell_type": "code",
   "execution_count": null,
   "id": "8033259c",
   "metadata": {},
   "outputs": [],
   "source": []
  },
  {
   "cell_type": "code",
   "execution_count": null,
   "id": "95bff37c",
   "metadata": {},
   "outputs": [],
   "source": []
  },
  {
   "cell_type": "code",
   "execution_count": null,
   "id": "47e540a3",
   "metadata": {},
   "outputs": [],
   "source": []
  }
 ],
 "metadata": {
  "kernelspec": {
   "display_name": "Python 3 (ipykernel)",
   "language": "python",
   "name": "python3"
  },
  "language_info": {
   "codemirror_mode": {
    "name": "ipython",
    "version": 3
   },
   "file_extension": ".py",
   "mimetype": "text/x-python",
   "name": "python",
   "nbconvert_exporter": "python",
   "pygments_lexer": "ipython3",
   "version": "3.9.13"
  }
 },
 "nbformat": 4,
 "nbformat_minor": 5
}
