{
 "cells": [
  {
   "cell_type": "markdown",
   "id": "cd99b35e",
   "metadata": {},
   "source": [
    "# PYTHON ASSIGNMENT  (30 JAN)"
   ]
  },
  {
   "cell_type": "code",
   "execution_count": 3,
   "id": "ac118180",
   "metadata": {},
   "outputs": [
    {
     "name": "stdout",
     "output_type": "stream",
     "text": [
      "Enter your marks obtained: 85\n",
      "Your Grade is B\n"
     ]
    }
   ],
   "source": [
    "#Q1.\n",
    "marks=int(input(\"Enter your marks obtained: \"))\n",
    "if marks>90:\n",
    "    print(\"Your Grade is A\")\n",
    "elif marks>80 and marks<=90:\n",
    "    print(\"Your Grade is B\")\n",
    "elif marks>=60 and marks<=80:\n",
    "    print(\"Your Grade is C\")\n",
    "else:\n",
    "    print(\"Your Grade is D\")"
   ]
  },
  {
   "cell_type": "code",
   "execution_count": 4,
   "id": "e73bfa05",
   "metadata": {},
   "outputs": [
    {
     "name": "stdout",
     "output_type": "stream",
     "text": [
      "Enter the cost price of your bike: 40000\n",
      "The road tax to be paid is 5%\n"
     ]
    }
   ],
   "source": [
    "#Q2.\n",
    "cost_price=int(input(\"Enter the cost price of your bike: \"))\n",
    "if cost_price>100000:\n",
    "    print(\"The road tax to be paid is 15%\")\n",
    "elif cost_price>50000 and cost_price<=100000:\n",
    "    print(\"The road tax to be paid is 10%\")\n",
    "else:\n",
    "    print(\"The road tax to be paid is 5%\")"
   ]
  },
  {
   "cell_type": "code",
   "execution_count": 5,
   "id": "733c1831",
   "metadata": {},
   "outputs": [
    {
     "name": "stdout",
     "output_type": "stream",
     "text": [
      "Enter the city name: Agra\n",
      "Famous monument of this city is Taj Mahal\n"
     ]
    }
   ],
   "source": [
    "#Q3.\n",
    "city=input(\"Enter the city name: \")\n",
    "if city==\"Delhi\":\n",
    "    print(\"Famous monument of this city is Red Fort\")\n",
    "elif city==\"Agra\":\n",
    "    print(\"Famous monument of this city is Taj Mahal\")\n",
    "elif city==\"Jaipur\":\n",
    "    print(\"Famous monument of this city is Jal Mahal\")"
   ]
  },
  {
   "cell_type": "code",
   "execution_count": 10,
   "id": "924ad290",
   "metadata": {},
   "outputs": [
    {
     "name": "stdout",
     "output_type": "stream",
     "text": [
      "Enter the number: 66\n",
      "2\n"
     ]
    }
   ],
   "source": [
    "#Q4.\n",
    "num=int(input(\"Enter the number: \"))\n",
    "total=0\n",
    "while num>10:\n",
    "    num=num/3\n",
    "    total=total+1\n",
    "print(total)"
   ]
  },
  {
   "cell_type": "markdown",
   "id": "39cbb90e",
   "metadata": {},
   "source": [
    "Q5. Why and when to use while loop in python? Give a detailed description with example.\n",
    "\n",
    "A while loop is a control flow statement in Python that repeatedly executes a block of code as long as a given condition is true. It is useful when you want to repeat a specific task or set of tasks until a certain condition is met.\n",
    "\n",
    "For example:\n",
    "\n",
    "      counter = 0\n",
    "      while counter < 5:\n",
    "      print(\"Counter:\", counter)\n",
    "      counter += 1\n",
    "      print(\"The loop is finished\")\n",
    "      \n",
    "Here,we initialize a variable counter with a value of 0. The while loop executes the code block as long as the counter variable is less than 5. Inside the loop, we print the current value of counter and then increment it by 1. The loop continues until the counter reaches a value of 5.\n",
    "\n",
    "Generally, we use a while loop in Python when you need to repeat a block of code until a specific condition is met, and the number of iterations or the termination condition is not known beforehand."
   ]
  },
  {
   "cell_type": "code",
   "execution_count": 22,
   "id": "9d34dcd8",
   "metadata": {},
   "outputs": [
    {
     "name": "stdout",
     "output_type": "stream",
     "text": [
      "* * * * * \n",
      "* * * * * \n",
      "* * * * * \n",
      "* * * * * \n",
      "* * * * * \n",
      "* \n",
      "* * \n",
      "* * * \n",
      "* * * * \n",
      "* * * * * \n",
      "1 \n",
      "1 2 \n",
      "1 2 3 \n",
      "1 2 3 4 \n",
      "1 2 3 4 5 \n"
     ]
    }
   ],
   "source": [
    "#Q6.\n",
    "\n",
    "#i)\n",
    "size = 5\n",
    "row = 1\n",
    "while row <= size:\n",
    "    col = 1\n",
    "    while col <= size:\n",
    "        print(\"*\", end=\" \")\n",
    "        col += 1\n",
    "    print()\n",
    "    row += 1\n",
    "    \n",
    "    \n",
    "#ii)\n",
    "size = 5\n",
    "row = 1\n",
    "while row <= size:\n",
    "    col = 1\n",
    "    while col <= row:\n",
    "        print(\"*\", end=\" \")\n",
    "        col += 1\n",
    "    print()\n",
    "    row += 1\n",
    "    \n",
    "    \n",
    "#iii)\n",
    "size = 5\n",
    "row = 1\n",
    "while row <= size:\n",
    "    col = 1\n",
    "    while col <= row:\n",
    "        print(col, end=\" \")\n",
    "        col += 1\n",
    "    print()\n",
    "    row += 1"
   ]
  },
  {
   "cell_type": "code",
   "execution_count": 25,
   "id": "70b5f1d3",
   "metadata": {},
   "outputs": [
    {
     "name": "stdout",
     "output_type": "stream",
     "text": [
      "10\n",
      "9\n",
      "8\n",
      "7\n",
      "6\n",
      "5\n",
      "4\n",
      "3\n",
      "2\n",
      "1\n"
     ]
    }
   ],
   "source": [
    "#Q7.\n",
    "counter = 10\n",
    "while counter >= 1:\n",
    "    print(counter)\n",
    "    counter=counter- 1"
   ]
  },
  {
   "cell_type": "code",
   "execution_count": null,
   "id": "ad69e1bc",
   "metadata": {},
   "outputs": [],
   "source": []
  }
 ],
 "metadata": {
  "kernelspec": {
   "display_name": "Python 3 (ipykernel)",
   "language": "python",
   "name": "python3"
  },
  "language_info": {
   "codemirror_mode": {
    "name": "ipython",
    "version": 3
   },
   "file_extension": ".py",
   "mimetype": "text/x-python",
   "name": "python",
   "nbconvert_exporter": "python",
   "pygments_lexer": "ipython3",
   "version": "3.9.13"
  }
 },
 "nbformat": 4,
 "nbformat_minor": 5
}
